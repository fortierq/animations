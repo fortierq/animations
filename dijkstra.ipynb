{
 "cells": [
  {
   "cell_type": "code",
   "execution_count": 10,
   "metadata": {},
   "outputs": [],
   "source": [
    "import matplotlib.pyplot as plt\n",
    "from matplotlib.animation import FuncAnimation\n",
    "from IPython.display import HTML\n",
    "\n",
    "plt.rcParams.update({\n",
    "    \"text.usetex\": True,\n",
    "    \"font.family\": \"sans-serif\",\n",
    "    \"font.sans-serif\": [\"Helvetica\"],\n",
    "    \"font.size\": 28\n",
    "})"
   ]
  },
  {
   "cell_type": "code",
   "execution_count": 11,
   "metadata": {},
   "outputs": [],
   "source": [
    "G = {\n",
    "    \"A\": [(\"B\", 2), (\"C\", 8)],\n",
    "    \"B\": [(\"C\", 1), (\"D\", 5)],\n",
    "    \"C\": [(\"D\", 4), (\"E\", 1)],\n",
    "    \"D\": [],\n",
    "    \"E\": [(\"D\", 2)],\n",
    "}\n",
    "pos = {\n",
    "    \"A\": (0, 0),\n",
    "    \"B\": (0, 2),\n",
    "    \"C\": (2, 0),\n",
    "    \"D\": (2, 2),\n",
    "    \"E\": (3, 1),\n",
    "}"
   ]
  },
  {
   "cell_type": "code",
   "execution_count": 23,
   "metadata": {},
   "outputs": [
    {
     "output_type": "display_data",
     "data": {
      "text/plain": "<Figure size 432x288 with 1 Axes>",
      "image/svg+xml": "<?xml version=\"1.0\" encoding=\"utf-8\" standalone=\"no\"?>\n<!DOCTYPE svg PUBLIC \"-//W3C//DTD SVG 1.1//EN\"\n  \"http://www.w3.org/Graphics/SVG/1.1/DTD/svg11.dtd\">\n<!-- Created with matplotlib (https://matplotlib.org/) -->\n<svg height=\"267.209458pt\" version=\"1.1\" viewBox=\"0 0 349.2 267.209458\" width=\"349.2pt\" xmlns=\"http://www.w3.org/2000/svg\" xmlns:xlink=\"http://www.w3.org/1999/xlink\">\n <metadata>\n  <rdf:RDF xmlns:cc=\"http://creativecommons.org/ns#\" xmlns:dc=\"http://purl.org/dc/elements/1.1/\" xmlns:rdf=\"http://www.w3.org/1999/02/22-rdf-syntax-ns#\">\n   <cc:Work>\n    <dc:type rdf:resource=\"http://purl.org/dc/dcmitype/StillImage\"/>\n    <dc:date>2021-03-07T18:36:26.351069</dc:date>\n    <dc:format>image/svg+xml</dc:format>\n    <dc:creator>\n     <cc:Agent>\n      <dc:title>Matplotlib v3.3.4, https://matplotlib.org/</dc:title>\n     </cc:Agent>\n    </dc:creator>\n   </cc:Work>\n  </rdf:RDF>\n </metadata>\n <defs>\n  <style type=\"text/css\">*{stroke-linecap:butt;stroke-linejoin:round;}</style>\n </defs>\n <g id=\"figure_1\">\n  <g id=\"patch_1\">\n   <path d=\"M 0 267.209458 \nL 349.2 267.209458 \nL 349.2 0 \nL 0 0 \nz\n\" style=\"fill:none;\"/>\n  </g>\n  <g id=\"axes_1\">\n   <g id=\"PathCollection_1\">\n    <defs>\n     <path d=\"M 0 5.700877 \nC 1.51189 5.700877 2.962061 5.100197 4.031129 4.031129 \nC 5.100197 2.962061 5.700877 1.51189 5.700877 0 \nC 5.700877 -1.51189 5.100197 -2.962061 4.031129 -4.031129 \nC 2.962061 -5.100197 1.51189 -5.700877 0 -5.700877 \nC -1.51189 -5.700877 -2.962061 -5.100197 -4.031129 -4.031129 \nC -5.100197 -2.962061 -5.700877 -1.51189 -5.700877 0 \nC -5.700877 1.51189 -5.100197 2.962061 -4.031129 4.031129 \nC -2.962061 5.100197 -1.51189 5.700877 0 5.700877 \nz\n\" id=\"mec17f047eb\" style=\"stroke:#008000;\"/>\n    </defs>\n    <g clip-path=\"url(#pd98ed90d2a)\">\n     <use style=\"fill:#008000;stroke:#008000;\" x=\"26.91095\" xlink:href=\"#mec17f047eb\" y=\"225.693827\"/>\n    </g>\n   </g>\n   <g id=\"PathCollection_2\">\n    <g clip-path=\"url(#pd98ed90d2a)\">\n     <use style=\"fill:#008000;stroke:#008000;\" x=\"26.91095\" xlink:href=\"#mec17f047eb\" y=\"36.533322\"/>\n    </g>\n   </g>\n   <g id=\"PathCollection_3\">\n    <g clip-path=\"url(#pd98ed90d2a)\">\n     <use style=\"fill:#008000;stroke:#008000;\" x=\"226.589539\" xlink:href=\"#mec17f047eb\" y=\"225.693827\"/>\n    </g>\n   </g>\n   <g id=\"PathCollection_4\">\n    <g clip-path=\"url(#pd98ed90d2a)\">\n     <use style=\"fill:#008000;stroke:#008000;\" x=\"226.589539\" xlink:href=\"#mec17f047eb\" y=\"36.533322\"/>\n    </g>\n   </g>\n   <g id=\"PathCollection_5\">\n    <g clip-path=\"url(#pd98ed90d2a)\">\n     <use style=\"fill:#008000;stroke:#008000;\" x=\"326.428833\" xlink:href=\"#mec17f047eb\" y=\"131.113574\"/>\n    </g>\n   </g>\n   <g id=\"patch_2\">\n    <path clip-path=\"url(#pd98ed90d2a)\" d=\"M 26.91095 36.533322 \nL 31.403718 49.301656 \nL 27.410147 49.301656 \nL 27.410147 225.693827 \nL 26.411754 225.693827 \nL 26.411754 49.301656 \nL 22.418182 49.301656 \nz\n\" style=\"stroke:#000000;stroke-linejoin:miter;\"/>\n   </g>\n   <g id=\"patch_3\">\n    <path clip-path=\"url(#pd98ed90d2a)\" d=\"M 226.589539 225.693827 \nL 213.111234 229.949938 \nL 213.111234 226.166728 \nL 26.91095 226.166728 \nL 26.91095 225.220925 \nL 213.111234 225.220925 \nL 213.111234 221.437715 \nz\n\" style=\"stroke:#000000;stroke-linejoin:miter;\"/>\n   </g>\n   <g id=\"patch_4\">\n    <path clip-path=\"url(#pd98ed90d2a)\" d=\"M 226.589539 225.693827 \nL 213.882071 219.674776 \nL 216.705953 216.999643 \nL 26.557965 36.867714 \nL 27.263935 36.19893 \nL 217.411923 216.330859 \nL 220.235805 213.655726 \nz\n\" style=\"stroke:#000000;stroke-linejoin:miter;\"/>\n   </g>\n   <g id=\"patch_5\">\n    <path clip-path=\"url(#pd98ed90d2a)\" d=\"M 226.589539 36.533322 \nL 213.111234 40.789433 \nL 213.111234 37.006223 \nL 26.91095 37.006223 \nL 26.91095 36.060421 \nL 213.111234 36.060421 \nL 213.111234 32.277211 \nz\n\" style=\"stroke:#000000;stroke-linejoin:miter;\"/>\n   </g>\n   <g id=\"patch_6\">\n    <path clip-path=\"url(#pd98ed90d2a)\" d=\"M 226.589539 36.533322 \nL 231.082307 49.301656 \nL 227.088735 49.301656 \nL 227.088735 225.693827 \nL 226.090342 225.693827 \nL 226.090342 49.301656 \nL 222.09677 49.301656 \nz\n\" style=\"stroke:#000000;stroke-linejoin:miter;\"/>\n   </g>\n   <g id=\"patch_7\">\n    <path clip-path=\"url(#pd98ed90d2a)\" d=\"M 326.428833 131.113574 \nL 320.075099 143.151675 \nL 317.251218 140.476542 \nL 226.942524 226.028218 \nL 226.236553 225.359435 \nL 316.545247 139.807758 \nL 313.721365 137.132625 \nz\n\" style=\"stroke:#000000;stroke-linejoin:miter;\"/>\n   </g>\n   <g id=\"patch_8\">\n    <path clip-path=\"url(#pd98ed90d2a)\" d=\"M 226.589539 36.533322 \nL 239.297006 42.552372 \nL 236.473125 45.227506 \nL 326.781818 130.779183 \nL 326.075848 131.447966 \nL 235.767154 45.896289 \nL 232.943272 48.571423 \nz\n\" style=\"stroke:#000000;stroke-linejoin:miter;\"/>\n   </g>\n   <g id=\"text_1\">\n    <!-- 0 -->\n    <g style=\"fill:#008000;\" transform=\"translate(21.918985 254.067902)scale(0.28 -0.28)\">\n     <defs>\n      <path d=\"M 27.5 71 \nC 20.90625 71 14.90625 68.125 11.203125 63.21875 \nC 6.59375 57.046875 4.296875 47.5625 4.296875 34.5 \nC 4.296875 10.671875 12.296875 -2 27.5 -2 \nC 42.5 -2 50.703125 10.671875 50.703125 33.90625 \nC 50.703125 47.65625 48.5 56.84375 43.796875 63.21875 \nC 40.09375 68.21875 34.203125 71 27.5 71 \nz\nM 27.5 63.1875 \nC 37 63.1875 41.703125 53.625 41.703125 34.703125 \nC 41.703125 14.671875 37.09375 5.3125 27.296875 5.3125 \nC 18 5.3125 13.296875 15.078125 13.296875 34.40625 \nC 13.296875 53.71875 18 63.1875 27.5 63.1875 \nz\n\" id=\"Nimbus_Sans_L_Regular-48\"/>\n     </defs>\n     <use transform=\"scale(0.996264)\" xlink:href=\"#Nimbus_Sans_L_Regular-48\"/>\n    </g>\n   </g>\n   <g id=\"text_2\">\n    <!-- 2 -->\n    <g style=\"fill:#008000;\" transform=\"translate(21.918985 27.075297)scale(0.28 -0.28)\">\n     <defs>\n      <path d=\"M 50.59375 8.71875 \nL 13.296875 8.71875 \nC 14.203125 14.53125 17.40625 18.234375 26.09375 23.34375 \nL 36.09375 28.75 \nC 46 34.15625 51.09375 41.453125 51.09375 50.171875 \nC 51.09375 56.078125 48.703125 61.59375 44.5 65.390625 \nC 40.296875 69.203125 35.09375 71 28.40625 71 \nC 19.40625 71 12.703125 67.796875 8.796875 61.796875 \nC 6.296875 57.984375 5.203125 53.578125 5 46.359375 \nL 13.796875 46.359375 \nC 14.09375 51.171875 14.703125 54.078125 15.90625 56.375 \nC 18.203125 60.6875 22.796875 63.296875 28.09375 63.296875 \nC 36.09375 63.296875 42.09375 57.578125 42.09375 49.96875 \nC 42.09375 44.359375 38.796875 39.546875 32.5 35.953125 \nL 23.296875 30.75 \nC 8.5 22.34375 4.203125 15.625 3.40625 0 \nL 50.59375 0 \nz\n\" id=\"Nimbus_Sans_L_Regular-50\"/>\n     </defs>\n     <use transform=\"scale(0.996264)\" xlink:href=\"#Nimbus_Sans_L_Regular-50\"/>\n    </g>\n   </g>\n   <g id=\"text_3\">\n    <!-- 3 -->\n    <g style=\"fill:#008000;\" transform=\"translate(221.597574 254.067902)scale(0.28 -0.28)\">\n     <defs>\n      <path d=\"M 22.09375 33 \nL 23.203125 33 \nL 26.90625 33 \nC 36.59375 33 41.59375 28.59375 41.59375 20.0625 \nC 41.59375 11.125 36.09375 5.8125 26.90625 5.8125 \nC 17.296875 5.8125 12.59375 10.640625 12 21.015625 \nL 3.203125 21.015625 \nC 3.59375 15.28125 4.59375 11.5625 6.296875 8.34375 \nC 9.90625 1.515625 16.90625 -2 26.59375 -2 \nC 41.203125 -2 50.59375 6.734375 50.59375 20.203125 \nC 50.59375 29.25 47.09375 34.28125 38.59375 37.203125 \nC 45.203125 39.78125 48.5 44.71875 48.5 51.734375 \nC 48.5 63.78125 40.40625 71 26.90625 71 \nC 12.59375 71 5 63.28125 4.703125 48.359375 \nL 13.5 48.359375 \nC 13.59375 52.59375 14 54.953125 15.09375 57.109375 \nC 17.09375 60.9375 21.5 63.296875 27 63.296875 \nC 34.796875 63.296875 39.5 58.75 39.5 51.359375 \nC 39.5 46.421875 37.703125 43.453125 33.796875 41.890625 \nC 31.40625 40.90625 28.296875 40.5 22.09375 40.5 \nz\n\" id=\"Nimbus_Sans_L_Regular-51\"/>\n     </defs>\n     <use transform=\"scale(0.996264)\" xlink:href=\"#Nimbus_Sans_L_Regular-51\"/>\n    </g>\n   </g>\n   <g id=\"text_4\">\n    <!-- 6 -->\n    <g style=\"fill:#008000;\" transform=\"translate(221.597574 27.075297)scale(0.28 -0.28)\">\n     <defs>\n      <path d=\"M 49.796875 52.84375 \nC 48.09375 64.234375 40.5 71 29.703125 71 \nC 21.90625 71 14.90625 67.21875 10.703125 60.9375 \nC 6.296875 54.0625 4.296875 45.375 4.296875 32.515625 \nC 4.296875 20.640625 6.09375 13.0625 10.296875 6.78125 \nC 14.09375 1.078125 20.296875 -2 28.09375 -2 \nC 41.59375 -2 51.296875 8.09375 51.296875 22.109375 \nC 51.296875 35.4375 42.296875 44.8125 29.59375 44.8125 \nC 22.59375 44.8125 17.09375 42.109375 13.296875 36.90625 \nC 13.40625 53.8125 19 63.1875 29.09375 63.1875 \nC 35.296875 63.1875 39.59375 59.421875 41 52.84375 \nz\nM 28.5 37 \nC 37 37 42.296875 31.03125 42.296875 21.40625 \nC 42.296875 12.390625 36.296875 5.8125 28.203125 5.8125 \nC 20 5.8125 13.796875 12.703125 13.796875 21.90625 \nC 13.796875 30.828125 19.796875 37 28.5 37 \nz\n\" id=\"Nimbus_Sans_L_Regular-54\"/>\n     </defs>\n     <use transform=\"scale(0.996264)\" xlink:href=\"#Nimbus_Sans_L_Regular-54\"/>\n    </g>\n   </g>\n   <g id=\"text_5\">\n    <!-- 4 -->\n    <g style=\"fill:#008000;\" transform=\"translate(321.436868 121.655549)scale(0.28 -0.28)\">\n     <defs>\n      <path d=\"M 32.703125 17 \nL 32.703125 0 \nL 41.5 0 \nL 41.5 17 \nL 52 17 \nL 52 24.90625 \nL 41.5 24.90625 \nL 41.5 71.015625 \nL 35 71.015625 \nL 2.796875 26.3125 \nL 2.796875 17 \nz\nM 32.703125 24.90625 \nL 10.5 24.90625 \nL 32.703125 55.984375 \nz\n\" id=\"Nimbus_Sans_L_Regular-52\"/>\n     </defs>\n     <use transform=\"scale(0.996264)\" xlink:href=\"#Nimbus_Sans_L_Regular-52\"/>\n    </g>\n   </g>\n   <g id=\"text_6\">\n    <!-- 2 -->\n    <g transform=\"translate(26.91095 131.113574)scale(0.28 -0.28)\">\n     <use transform=\"scale(0.996264)\" xlink:href=\"#Nimbus_Sans_L_Regular-50\"/>\n    </g>\n   </g>\n   <g id=\"text_7\">\n    <!-- 8 -->\n    <g transform=\"translate(126.750244 225.693827)scale(0.28 -0.28)\">\n     <defs>\n      <path d=\"M 39.09375 37.484375 \nC 46.40625 41.875 48.796875 45.46875 48.796875 52.15625 \nC 48.796875 63.21875 40.09375 71 27.5 71 \nC 15 71 6.203125 63.21875 6.203125 52.15625 \nC 6.203125 45.578125 8.59375 41.984375 15.796875 37.484375 \nC 7.703125 33.59375 3.703125 27.71875 3.703125 19.9375 \nC 3.703125 6.96875 13.5 -2 27.5 -2 \nC 41.5 -2 51.296875 6.984375 51.296875 19.84375 \nC 51.296875 27.71875 47.296875 33.59375 39.09375 37.484375 \nz\nM 27.5 63.1875 \nC 35 63.1875 39.796875 58.8125 39.796875 51.953125 \nC 39.796875 45.375 34.90625 41 27.5 41 \nC 20.09375 41 15.203125 45.375 15.203125 52.046875 \nC 15.203125 58.8125 20.09375 63.1875 27.5 63.1875 \nz\nM 27.5 33.578125 \nC 36.296875 33.578125 42.296875 28 42.296875 19.734375 \nC 42.296875 11.390625 36.296875 5.8125 27.296875 5.8125 \nC 18.703125 5.8125 12.703125 11.484375 12.703125 19.734375 \nC 12.703125 28 18.703125 33.578125 27.5 33.578125 \nz\n\" id=\"Nimbus_Sans_L_Regular-56\"/>\n     </defs>\n     <use transform=\"scale(0.996264)\" xlink:href=\"#Nimbus_Sans_L_Regular-56\"/>\n    </g>\n   </g>\n   <g id=\"text_8\">\n    <!-- 1 -->\n    <g transform=\"translate(126.750244 131.113574)scale(0.28 -0.28)\">\n     <defs>\n      <path d=\"M 25.90625 50.59375 \nL 25.90625 0 \nL 34.703125 0 \nL 34.703125 71.015625 \nL 28.90625 71.015625 \nC 25.796875 60.109375 23.796875 58.609375 10.203125 56.90625 \nL 10.203125 50.59375 \nz\n\" id=\"Nimbus_Sans_L_Regular-49\"/>\n     </defs>\n     <use transform=\"scale(0.996264)\" xlink:href=\"#Nimbus_Sans_L_Regular-49\"/>\n    </g>\n   </g>\n   <g id=\"text_9\">\n    <!-- 5 -->\n    <g transform=\"translate(126.750244 36.533322)scale(0.28 -0.28)\">\n     <defs>\n      <path d=\"M 47.59375 71 \nL 11 71 \nL 5.703125 32.59375 \nL 13.796875 32.59375 \nC 17.90625 37.484375 21.296875 39.1875 26.796875 39.1875 \nC 36.296875 39.1875 42.296875 32.6875 42.296875 22.203125 \nC 42.296875 12 36.40625 5.8125 26.796875 5.8125 \nC 19.09375 5.8125 14.40625 9.703125 12.296875 17.703125 \nL 3.5 17.703125 \nC 4.703125 11.90625 5.703125 9.09375 7.796875 6.484375 \nC 11.796875 1.09375 19 -2 27 -2 \nC 41.296875 -2 51.296875 8.390625 51.296875 23.390625 \nC 51.296875 37.40625 42 47 28.40625 47 \nC 23.40625 47 19.40625 45.703125 15.296875 42.6875 \nL 18.09375 62.296875 \nL 47.59375 62.296875 \nz\n\" id=\"Nimbus_Sans_L_Regular-53\"/>\n     </defs>\n     <use transform=\"scale(0.996264)\" xlink:href=\"#Nimbus_Sans_L_Regular-53\"/>\n    </g>\n   </g>\n   <g id=\"text_10\">\n    <!-- 4 -->\n    <g transform=\"translate(226.589539 131.113574)scale(0.28 -0.28)\">\n     <use transform=\"scale(0.996264)\" xlink:href=\"#Nimbus_Sans_L_Regular-52\"/>\n    </g>\n   </g>\n   <g id=\"text_11\">\n    <!-- 1 -->\n    <g transform=\"translate(276.509186 178.4037)scale(0.28 -0.28)\">\n     <use transform=\"scale(0.996264)\" xlink:href=\"#Nimbus_Sans_L_Regular-49\"/>\n    </g>\n   </g>\n   <g id=\"text_12\">\n    <!-- 2 -->\n    <g transform=\"translate(276.509186 83.823448)scale(0.28 -0.28)\">\n     <use transform=\"scale(0.996264)\" xlink:href=\"#Nimbus_Sans_L_Regular-50\"/>\n    </g>\n   </g>\n  </g>\n </g>\n <defs>\n  <clipPath id=\"pd98ed90d2a\">\n   <rect height=\"217.44\" width=\"334.8\" x=\"7.2\" y=\"22.393574\"/>\n  </clipPath>\n </defs>\n</svg>\n",
      "image/png": "[encoded data removed]"
     },
     "metadata": {
      "needs_background": "light"
     }
    }
   ],
   "source": [
    "fig, ax = plt.subplots()\n",
    "ax.axis('off')\n",
    "\n",
    "dist = { v: float(\"inf\") for v in G }\n",
    "vus = { v: False for v in G }\n",
    "dist[\"A\"] = 0\n",
    "\n",
    "def dist_to_str(d):\n",
    "    if d == float(\"inf\"):\n",
    "        return \"$\\infty$\"\n",
    "    return str(d)\n",
    "\n",
    "P, T, A = {}, {}, {}\n",
    "for v in pos:\n",
    "    x, y = pos[v]\n",
    "    P[v] = ax.scatter(x, y, s=130, color=\"black\")\n",
    "    if y < 0.5:\n",
    "        y -= 0.3\n",
    "    else:\n",
    "        y += 0.1\n",
    "    T[v] = ax.text(x - 0.05, y, dist_to_str(dist[v]))\n",
    "\n",
    "for u in G:\n",
    "    for v, w in G[u]:\n",
    "        A[(u, v)] = ax.arrow(pos[u][0], pos[u][1], pos[v][0] - pos[u][0], pos[v][1] - pos[u][1],\n",
    "                            length_includes_head=True,\n",
    "                            head_width=0.09,\n",
    "                            width=0.01)\n",
    "        ax.text((pos[u][0] + pos[v][0])/2, (pos[u][1] + pos[v][1])/2, str(w)) \n",
    "\n",
    "def dijkstra():\n",
    "    yield\n",
    "    while True:\n",
    "        v_min = -1\n",
    "        for v in dist:\n",
    "            if not vus[v] and (v_min == -1 or dist[v] < dist[v_min]):\n",
    "                v_min = v\n",
    "        if v_min == -1:\n",
    "            yield\n",
    "            continue\n",
    "        vus[v_min] = True\n",
    "        T[v_min].set_color(\"red\")\n",
    "        P[v_min].set_color(\"red\")\n",
    "        yield\n",
    "        for v, w in G[v_min]:\n",
    "            A[(v_min, v)].set_color(\"red\")\n",
    "            yield\n",
    "            if dist[v_min] + w < dist[v]:\n",
    "                dist[v] = dist[v_min] + w\n",
    "                T[v].set_text(dist_to_str(dist[v]))\n",
    "                yield\n",
    "            A[(v_min, v)].set_color(\"black\")\n",
    "        T[v_min].set_color(\"green\")\n",
    "        P[v_min].set_color(\"green\")\n",
    "        yield\n",
    "\n",
    "dij = dijkstra()\n",
    "def update(i):\n",
    "    next(dij)\n",
    "\n",
    "anim = FuncAnimation(fig, update, frames=25, interval=1500, blit=False)\n",
    "anim.save('anim.gif')\n",
    "# HTML(anim.to_html5_video())"
   ]
  },
  {
   "cell_type": "code",
   "execution_count": null,
   "metadata": {},
   "outputs": [],
   "source": []
  }
 ],
 "metadata": {
  "kernelspec": {
   "display_name": "Python 3.9.1 64-bit ('entpe-eCWSGTXq-py3.9': venv)",
   "language": "python",
   "name": "python39164bitentpeecwsgtxqpy39venv99f41937d31342ebbbf45c680ce49fa6"
  },
  "language_info": {
   "codemirror_mode": {
    "name": "ipython",
    "version": 3
   },
   "file_extension": ".py",
   "mimetype": "text/x-python",
   "name": "python",
   "nbconvert_exporter": "python",
   "pygments_lexer": "ipython3",
   "version": "3.9.1-final"
  }
 },
 "nbformat": 4,
 "nbformat_minor": 2
}