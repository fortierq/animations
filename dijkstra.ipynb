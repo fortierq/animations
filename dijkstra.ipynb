{
 "cells": [
  {
   "cell_type": "code",
   "execution_count": 1,
   "metadata": {},
   "outputs": [],
   "source": [
    "import matplotlib.pyplot as plt\n",
    "from matplotlib.animation import FuncAnimation\n",
    "plt.rcParams.update({\n",
    "    \"text.usetex\": True,\n",
    "    \"font.family\": \"sans-serif\",\n",
    "    \"font.sans-serif\": [\"Helvetica\"],\n",
    "    \"font.size\": 22\n",
    "})"
   ]
  },
  {
   "cell_type": "code",
   "execution_count": 2,
   "metadata": {},
   "outputs": [],
   "source": [
    "G = {\n",
    "    \"A\": [(\"B\", 2), (\"C\", 5)],\n",
    "    \"B\": [(\"C\", 1)],\n",
    "    \"C\": [],\n",
    "}\n",
    "pos = {\n",
    "    \"A\": (0, 0),\n",
    "    \"B\": (2, 0),\n",
    "    \"C\": (1, 1),\n",
    "}\n"
   ]
  },
  {
   "cell_type": "code",
   "execution_count": 3,
   "metadata": {},
   "outputs": [
    {
     "data": {
      "text/plain": [
       "(0.0, 1.0, 0.0, 1.0)"
      ]
     },
     "execution_count": 3,
     "metadata": {},
     "output_type": "execute_result"
    },
    {
     "data": {
      "image/png": "[encoded data removed]",
      "text/plain": [
       "<Figure size 432x288 with 1 Axes>"
      ]
     },
     "metadata": {
      "needs_background": "light"
     },
     "output_type": "display_data"
    }
   ],
   "source": [
    "fig, ax = plt.subplots()\n",
    "ax.axis('off') "
   ]
  },
  {
   "cell_type": "code",
   "execution_count": 4,
   "metadata": {},
   "outputs": [
    {
     "name": "stdout",
     "output_type": "stream",
     "text": [
      "[]\n",
      "[(5, 'C')]\n",
      "[(5, 'C')]\n"
     ]
    },
    {
     "data": {
      "text/html": [
       "<video width=\"432\" height=\"288\" controls autoplay loop>\n",
       "  <source type=\"video/mp4\" src=\"data:video/mp4;base64,AAAAHGZ0eXBNNFYgAAACAGlzb21pc28yYXZjMQAAAAhmcmVlAAAH8m1kYXQAAAKtBgX//6ncRem9\n",
       "5tlIt5Ys2CDZI+7veDI2NCAtIGNvcmUgMTU1IHIyOTE3IDBhODRkOTggLSBILjI2NC9NUEVHLTQg\n",
       "QVZDIGNvZGVjIC0gQ29weWxlZnQgMjAwMy0yMDE4IC0gaHR0cDovL3d3dy52aWRlb2xhbi5vcmcv\n",
       "eDI2NC5odG1sIC0gb3B0aW9uczogY2FiYWM9MSByZWY9MyBkZWJsb2NrPTE6MDowIGFuYWx5c2U9\n",
       "MHgzOjB4MTEzIG1lPWhleCBzdWJtZT03IHBzeT0xIHBzeV9yZD0xLjAwOjAuMDAgbWl4ZWRfcmVm\n",
       "PTEgbWVfcmFuZ2U9MTYgY2hyb21hX21lPTEgdHJlbGxpcz0xIDh4OGRjdD0xIGNxbT0wIGRlYWR6\n",
       "b25lPTIxLDExIGZhc3RfcHNraXA9MSBjaHJvbWFfcXBfb2Zmc2V0PS0yIHRocmVhZHM9NiBsb29r\n",
       "YWhlYWRfdGhyZWFkcz0xIHNsaWNlZF90aHJlYWRzPTAgbnI9MCBkZWNpbWF0ZT0xIGludGVybGFj\n",
       "ZWQ9MCBibHVyYXlfY29tcGF0PTAgY29uc3RyYWluZWRfaW50cmE9MCBiZnJhbWVzPTMgYl9weXJh\n",
       "bWlkPTIgYl9hZGFwdD0xIGJfYmlhcz0wIGRpcmVjdD0xIHdlaWdodGI9MSBvcGVuX2dvcD0wIHdl\n",
       "aWdodHA9MiBrZXlpbnQ9MjUwIGtleWludF9taW49MSBzY2VuZWN1dD00MCBpbnRyYV9yZWZyZXNo\n",
       "PTAgcmNfbG9va2FoZWFkPTQwIHJjPWNyZiBtYnRyZWU9MSBjcmY9MjMuMCBxY29tcD0wLjYwIHFw\n",
       "bWluPTAgcXBtYXg9NjkgcXBzdGVwPTQgaXBfcmF0aW89MS40MCBhcT0xOjEuMDAAgAAAA+FliIQA\n",
       "F//+99S3zLLtU2+2C6j3op4mX0N1JQGblsTtOoAAAAMABnddzdfZ7UFwH2gAB4wHQv/1SvMmiADj\n",
       "eyviYx/ulfPiqhUEsDZaOyxGPV3pv78IE6N6tlDlz/tlSlnU6kAFlJnU7wCnM8vjsAqav4XTUom+\n",
       "+2qftfOVCILaupZ9+9+4niFZ2pvKJP6Ee+iof2x5W1DjLEjaI2/Dk9M5CB9+uDJgwmc1NGi/5hqd\n",
       "h3/E5PQxI0eZEgJrXZRRUaeoY7/6E55gmUo4evwKvd7tMilU78QzZ/kZJXBh83WnO5uawJnArTj0\n",
       "LOvLNzY+Xma/QD3G8lelbBEG/41rGg5DBs5ukMC3DLcokgHcZibLdB/5/IFLfekEIcbpJBp83Ap4\n",
       "IrAXsmZguUTgpiYjuXqTwqWdF1LEYBL3R1huyGYeo1VtJ01bIzykDHbg6so3oeVVq3uMZZC6D5ex\n",
       "JwqJdp+z0P5p8aqw7lb/kmKj0jfaW6E8U2EN/QFWyBnNEs8tc6Egql1gQjij4o9fedj1qLhuN+Za\n",
       "1JHXg5GpgPz8vfPVEfCMJm3V3ARauaRj0mchStUiDm/Pc37Nluf2Budk4/zEr0WedsZEOrLFpQw+\n",
       "UqlYJnyawIGUo62fkWw7/RylW1aZ3cbD9HyZj8XbjcLVLsmm9ZBphqq4fbqiHES9w2yaMnQ6bpXD\n",
       "Ml2HDF/7fCzUdp+smYlF7sSahh3ctVfI25+2BwR8KrmGsK5No+BFE16t72Lf7OPHF02boYbupruM\n",
       "JXTcsMVZw30tfXCoKZu/B/Kd2Xk6z/DKltlekXpwjIejjedVOr0hsFSfb44m17drKFOBTpwvm9oR\n",
       "yt6rB9yuGkx9KJyoMzaVQZqadzT5uAzZfLOqe0dE0t4TAJO80zUZwM69uqQJEns5RNdPa694z2el\n",
       "oXPoDIDzBG1bOFTiRZtV8/4iRlHc12PcBluBWPSJTpGsmZUyeuAdXNZX9n4KBmZYzCMnbjRsvKDV\n",
       "fH+kRGpI/2/W0E/S0kb+EEHYv+SZ/nzlJfD0k666pKua3bpKc47U7KIAA3Pu9TRZdng9DwaXhewp\n",
       "q9Ye6Lbmdvst9XVpZ+F/5Kl5pm25OVys/bJGvxHpUY3AgM+oPJJO3OYjt+nfvYVaZ5Jv+JfQT+Wf\n",
       "7rNjJO//ddOuK78jc41o9In4Bh5Oi4BqiYdiro9RYdfOZTb4kM40uLXah6q8f8SX2///y5G/8Ht1\n",
       "FcQE3URodbj6j/ygK+28hZhZkISR0wNHxxUhdOjg5/yT8AwOabGnG94osNK6xYsHkVVxYlE4hB1b\n",
       "f+FpcGbsZTQ/ickP7TV11o28ju0AAADxQZokbEFf/talUBUln/wivAAFiU20Af0akGWORXRipAdE\n",
       "91a5HAX7pmHyto6l0/M58+o474f5ezwwmsZkQk4rBIwb6twSQnnRX/gGi6/NFFIZXyda6tIB9mZw\n",
       "ZYOhZrzUbsjgZkxcUM1dylyUqNfpIz+f0tfIpMnrtCyUVWqxdfaMe/VmroJWThcuAE9bQpQhA0Xi\n",
       "J/Vpmz98fdvUV/SdN+U/wverKyISqX8iH8OgqF/XUXioM56FAeyADm4ncR6fnpaog1lhc9gEWdvO\n",
       "wTjNCcM7cOSSRxpSPwQ3Mb96HQgjcwQ+J/sXYA9EsAZ6O63AwAAAACZBnkJ4gt8AA48/Oa9+pH44\n",
       "ASwPpcdQnWBI6TwXpSP5zNaeLjANwQAAABsBnmF0QV8ABT9Spxx/EWpUz1gkj+5I2wIwIrAAAAAS\n",
       "AZ5jakFfAAADAC+U4sOSIpjfAAADam1vb3YAAABsbXZoZAAAAAAAAAAAAAAAAAAAA+gAACcQAAEA\n",
       "AAEAAAAAAAAAAAAAAAABAAAAAAAAAAAAAAAAAAAAAQAAAAAAAAAAAAAAAAAAQAAAAAAAAAAAAAAA\n",
       "AAAAAAAAAAAAAAAAAAAAAAAAAAIAAAKUdHJhawAAAFx0a2hkAAAAAwAAAAAAAAAAAAAAAQAAAAAA\n",
       "ACcQAAAAAAAAAAAAAAAAAAAAAAABAAAAAAAAAAAAAAAAAAAAAQAAAAAAAAAAAAAAAAAAQAAAAAGw\n",
       "AAABIAAAAAAAJGVkdHMAAAAcZWxzdAAAAAAAAAABAAAnEAABAAAAAQAAAAACDG1kaWEAAAAgbWRo\n",
       "ZAAAAAAAAAAAAAAAAAAAQAAAAoAAVcQAAAAAAC1oZGxyAAAAAAAAAAB2aWRlAAAAAAAAAAAAAAAA\n",
       "VmlkZW9IYW5kbGVyAAAAAbdtaW5mAAAAFHZtaGQAAAABAAAAAAAAAAAAAAAkZGluZgAAABxkcmVm\n",
       "AAAAAAAAAAEAAAAMdXJsIAAAAAEAAAF3c3RibAAAALNzdHNkAAAAAAAAAAEAAACjYXZjMQAAAAAA\n",
       "AAABAAAAAAAAAAAAAAAAAAAAAAGwASAASAAAAEgAAAAAAAAAAQAAAAAAAAAAAAAAAAAAAAAAAAAA\n",
       "AAAAAAAAAAAAAAAAABj//wAAADFhdmNDAWQAFf/hABhnZAAVrNlBsJaEAAADAAgAAAMACDxYtlgB\n",
       "AAZo6+PLIsAAAAAcdXVpZGtoQPJfJE/FujmlG88DI/MAAAAAAAAAGHN0dHMAAAAAAAAAAQAAAAUA\n",
       "AIAAAAAAFHN0c3MAAAAAAAAAAQAAAAEAAAA4Y3R0cwAAAAAAAAAFAAAAAQABAAAAAAABAAKAAAAA\n",
       "AAEAAQAAAAAAAQAAAAAAAAABAACAAAAAABxzdHNjAAAAAAAAAAEAAAABAAAABQAAAAEAAAAoc3Rz\n",
       "egAAAAAAAAAAAAAABQAABpYAAAD1AAAAKgAAAB8AAAAWAAAAFHN0Y28AAAAAAAAAAQAAACwAAABi\n",
       "dWR0YQAAAFptZXRhAAAAAAAAACFoZGxyAAAAAAAAAABtZGlyYXBwbAAAAAAAAAAAAAAAAC1pbHN0\n",
       "AAAAJal0b28AAAAdZGF0YQAAAAEAAAAATGF2ZjU4LjI5LjEwMA==\n",
       "\">\n",
       "  Your browser does not support the video tag.\n",
       "</video>"
      ],
      "text/plain": [
       "<IPython.core.display.HTML object>"
      ]
     },
     "execution_count": 4,
     "metadata": {},
     "output_type": "execute_result"
    }
   ],
   "source": [
    "from IPython.display import HTML\n",
    "from heapq import heappop, heappush\n",
    "\n",
    "file = []\n",
    "heappush(file, (0, \"A\"))\n",
    "dist = {\n",
    "    \"A\": \"$\\infty$\",\n",
    "    \"B\": \"$\\infty$\",\n",
    "    \"C\": \"$\\infty$\",\n",
    "}\n",
    "\n",
    "T = {}\n",
    "for v in pos:\n",
    "    x, y = pos[v]\n",
    "    ax.scatter(x, y, s=100)\n",
    "    T[v] = ax.text(x, y, dist[v])\n",
    "\n",
    "def init():\n",
    "    for v in T:\n",
    "        dist[v] = \"$\\infty$\"\n",
    "        T[v].set_text(dist[v])\n",
    "    return [T[v] for v in T]\n",
    "\n",
    "def update(i):\n",
    "    if file:\n",
    "        d, u = heappop(file)\n",
    "        if dist[u] == \"$\\infty$\" or d < int(dist[u]):\n",
    "            dist[u] = str(d)\n",
    "            T[u].set_text(str(d))\n",
    "            for v, w in G[u]:\n",
    "                heappush(file, (d + w, v))\n",
    "            return T[u],\n",
    "    return T[\"A\"],\n",
    "\n",
    "anim = FuncAnimation(fig, update, frames=5, interval=2000, blit=False)\n",
    "# anim.save('anim.gif')\n",
    "HTML(anim.to_html5_video())"
   ]
  },
  {
   "cell_type": "code",
   "execution_count": null,
   "metadata": {},
   "outputs": [],
   "source": []
  }
 ],
 "metadata": {
  "kernelspec": {
   "display_name": "Python 3.9.1 64-bit ('entpe-eCWSGTXq-py3.9': venv)",
   "language": "python",
   "name": "python39164bitentpeecwsgtxqpy39venv99f41937d31342ebbbf45c680ce49fa6"
  },
  "language_info": {
   "codemirror_mode": {
    "name": "ipython",
    "version": 3
   },
   "file_extension": ".py",
   "mimetype": "text/x-python",
   "name": "python",
   "nbconvert_exporter": "python",
   "pygments_lexer": "ipython3",
   "version": "3.9.1"
  }
 },
 "nbformat": 4,
 "nbformat_minor": 2
}
